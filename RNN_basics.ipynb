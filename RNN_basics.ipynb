{
 "cells": [
  {
   "cell_type": "code",
   "execution_count": 2,
   "metadata": {},
   "outputs": [
    {
     "name": "stderr",
     "output_type": "stream",
     "text": [
      "/Library/Frameworks/Python.framework/Versions/3.6/lib/python3.6/site-packages/h5py/__init__.py:36: FutureWarning: Conversion of the second argument of issubdtype from `float` to `np.floating` is deprecated. In future, it will be treated as `np.float64 == np.dtype(float).type`.\n",
      "  from ._conv import register_converters as _register_converters\n"
     ]
    }
   ],
   "source": [
    "import numpy as np\n",
    "import tensorflow as tf\n",
    "import matplotlib.pyplot as plt"
   ]
  },
  {
   "cell_type": "code",
   "execution_count": 40,
   "metadata": {},
   "outputs": [],
   "source": [
    "#standar code for plotting\n",
    "import matplotlib as mpl\n",
    "import matplotlib.cm as cm\n",
    "import matplotlib.pyplot as plt\n",
    "import seaborn as sns\n",
    "sns.set_style(\"whitegrid\")\n",
    "sns.set_context(\"poster\")"
   ]
  },
  {
   "cell_type": "code",
   "execution_count": 20,
   "metadata": {},
   "outputs": [],
   "source": [
    "#dealing with ssl errors\n",
    "import os, ssl\n",
    "if (not os.environ.get('PYTHONHTTPSVERIFY', '') and\n",
    "    getattr(ssl, '_create_unverified_context', None)):\n",
    "    ssl._create_default_https_context = ssl._create_unverified_context"
   ]
  },
  {
   "cell_type": "code",
   "execution_count": 3,
   "metadata": {},
   "outputs": [],
   "source": [
    "def reset_graph(seed=92):\n",
    "    tf.reset_default_graph()\n",
    "    tf.set_random_seed(seed)\n",
    "    np.random.seed(seed)"
   ]
  },
  {
   "cell_type": "markdown",
   "metadata": {},
   "source": [
    "Static_RNN\n",
    "\n",
    "In static RNN we need to specify the number of times steps we want to input. For every time step we need to create a placeholder.\n",
    "\n",
    "Weights are shared between cells for different time steps. We also need to specify the number of neurons in every cell"
   ]
  },
  {
   "cell_type": "code",
   "execution_count": 5,
   "metadata": {},
   "outputs": [],
   "source": [
    "n_neurons=5\n",
    "n_inputs=3   # dimension of input\n",
    "\n",
    "reset_graph()\n",
    "\n",
    "X0=tf.placeholder(tf.float32,[None,n_inputs])   #input at time = 0\n",
    "X1=tf.placeholder(tf.float32,[None,n_inputs])   #input at time = 1\n",
    "\n",
    "basic_cell=tf.contrib.rnn.BasicRNNCell(num_units=n_neurons)\n",
    "outputs,states = tf.contrib.rnn.static_rnn(basic_cell, [X0, X1], dtype=tf.float32)\n",
    "\n",
    "Y0,Y1 = outputs\n",
    "\n",
    "init=tf.global_variables_initializer()"
   ]
  },
  {
   "cell_type": "code",
   "execution_count": 7,
   "metadata": {},
   "outputs": [],
   "source": [
    "X0_batch = np.array([[0, 1, 2], [3, 4, 5], [6, 7, 8], [9, 0, 1]])\n",
    "X1_batch = np.array([[9, 8, 7], [0, 0, 0], [6, 5, 4], [3, 2, 1]])\n",
    "\n",
    "with tf.Session() as sess:\n",
    "    init.run()\n",
    "    Y0_val = sess.run(Y0,feed_dict={X0:X0_batch})"
   ]
  },
  {
   "cell_type": "code",
   "execution_count": 8,
   "metadata": {},
   "outputs": [
    {
     "data": {
      "text/plain": [
       "array([[-0.9282808 , -0.6494287 ,  0.44919947,  0.740712  ,  0.91083854],\n",
       "       [-0.999041  , -0.88881266,  0.9726149 ,  0.99849916,  0.99819607],\n",
       "       [-0.9999878 , -0.9679154 ,  0.99898636,  0.9999925 ,  0.9999651 ],\n",
       "       [ 0.99640584,  0.99891376,  0.5332107 ,  0.9523876 , -0.90068614]],\n",
       "      dtype=float32)"
      ]
     },
     "execution_count": 8,
     "metadata": {},
     "output_type": "execute_result"
    }
   ],
   "source": [
    "Y0_val"
   ]
  },
  {
   "cell_type": "code",
   "execution_count": 10,
   "metadata": {},
   "outputs": [],
   "source": [
    "with tf.Session() as sess:\n",
    "    init.run()\n",
    "    Y0_val,Y1_val = sess.run([Y0,Y1], feed_dict={X0:X0_batch,X1:X1_batch})"
   ]
  },
  {
   "cell_type": "code",
   "execution_count": 11,
   "metadata": {},
   "outputs": [
    {
     "data": {
      "text/plain": [
       "array([[-0.9282808 , -0.6494287 ,  0.44919947,  0.740712  ,  0.91083854],\n",
       "       [-0.999041  , -0.88881266,  0.9726149 ,  0.99849916,  0.99819607],\n",
       "       [-0.9999878 , -0.9679154 ,  0.99898636,  0.9999925 ,  0.9999651 ],\n",
       "       [ 0.99640584,  0.99891376,  0.5332107 ,  0.9523876 , -0.90068614]],\n",
       "      dtype=float32)"
      ]
     },
     "execution_count": 11,
     "metadata": {},
     "output_type": "execute_result"
    }
   ],
   "source": [
    "Y0_val"
   ]
  },
  {
   "cell_type": "code",
   "execution_count": 12,
   "metadata": {},
   "outputs": [
    {
     "data": {
      "text/plain": [
       "array([[-0.9999773 , -0.8714017 ,  0.99994576,  0.9999941 ,  0.9997386 ],\n",
       "       [-0.85674554, -0.16818923,  0.75746506, -0.76618785,  0.20119658],\n",
       "       [-0.9993862 , -0.60517573,  0.9990403 ,  0.9975072 ,  0.9899046 ],\n",
       "       [-0.73452485,  0.6392206 ,  0.88534486,  0.60503167, -0.13886805]],\n",
       "      dtype=float32)"
      ]
     },
     "execution_count": 12,
     "metadata": {},
     "output_type": "execute_result"
    }
   ],
   "source": [
    "Y1_val"
   ]
  },
  {
   "cell_type": "markdown",
   "metadata": {},
   "source": [
    "IN static_rnn we have to specify placeholders for every timestep. It'll  be combersome when time steps are large. There are ways to avoid that, still using static_rnn cells. But using dynmic rnn is better option."
   ]
  },
  {
   "cell_type": "markdown",
   "metadata": {},
   "source": [
    "# Dynamic Rnns"
   ]
  },
  {
   "cell_type": "markdown",
   "metadata": {},
   "source": [
    "additionaly we just have to specify number of steps while defining placeholder.  "
   ]
  },
  {
   "cell_type": "code",
   "execution_count": 13,
   "metadata": {},
   "outputs": [],
   "source": [
    "n_neurons = 5\n",
    "n_inputs = 3   # dimension of input\n",
    "n_steps = 2    # number of time steps\n",
    "\n",
    "reset_graph()\n",
    "\n",
    "X=tf.placeholder(tf.float32,[None,n_steps,n_inputs])\n",
    "\n",
    "basic_cell=tf.contrib.rnn.BasicRNNCell(num_units=n_neurons)\n",
    "outputs,states = tf.nn.dynamic_rnn(basic_cell, X, dtype=tf.float32)\n",
    "\n",
    "init=tf.global_variables_initializer()"
   ]
  },
  {
   "cell_type": "code",
   "execution_count": 14,
   "metadata": {},
   "outputs": [],
   "source": [
    "X_batch = np.array([\n",
    "        [[0, 1, 2], [9, 8, 7]], # instance 1\n",
    "        [[3, 4, 5], [0, 0, 0]], # instance 2\n",
    "        [[6, 7, 8], [6, 5, 4]], # instance 3\n",
    "        [[9, 0, 1], [3, 2, 1]], # instance 4\n",
    "    ])\n",
    "\n",
    "with tf.Session() as sess:\n",
    "    init.run()\n",
    "    outputs_val = outputs.eval(feed_dict={X: X_batch})"
   ]
  },
  {
   "cell_type": "code",
   "execution_count": 18,
   "metadata": {},
   "outputs": [
    {
     "data": {
      "text/plain": [
       "array([[[-0.78376645, -0.5627818 ,  0.747252  ,  0.25222418,\n",
       "          0.35902056],\n",
       "        [-0.11089691, -0.99999785,  0.99999976,  0.99994224,\n",
       "          0.9846872 ]],\n",
       "\n",
       "       [[-0.87631726, -0.997182  ,  0.9994634 ,  0.967969  ,\n",
       "          0.88318014],\n",
       "        [-0.34235865,  0.8761979 , -0.43589815,  0.48222777,\n",
       "         -0.3746321 ]],\n",
       "\n",
       "       [[-0.9307921 , -0.9999859 ,  0.99999905,  0.9991132 ,\n",
       "          0.9838143 ],\n",
       "        [ 0.08313006, -0.99698126,  0.99987805,  0.99919605,\n",
       "          0.8476281 ]],\n",
       "\n",
       "       [[ 0.99201244, -0.9999889 ,  0.9999955 ,  0.9998333 ,\n",
       "          0.98464084],\n",
       "        [ 0.3280835 ,  0.2955202 ,  0.99269134,  0.9944291 ,\n",
       "         -0.68697464]]], dtype=float32)"
      ]
     },
     "execution_count": 18,
     "metadata": {},
     "output_type": "execute_result"
    }
   ],
   "source": [
    "outputs_val"
   ]
  },
  {
   "cell_type": "code",
   "execution_count": 23,
   "metadata": {},
   "outputs": [],
   "source": [
    "from tf_graph_in_jupyter import show_graph"
   ]
  },
  {
   "cell_type": "code",
   "execution_count": null,
   "metadata": {},
   "outputs": [],
   "source": [
    "show_graph(tf.get_default_graph())"
   ]
  },
  {
   "cell_type": "markdown",
   "metadata": {},
   "source": [
    "We can also add sequence length(as a placeholder). If our input in longer than sequnec length, model will output '0' for additional inputs"
   ]
  },
  {
   "cell_type": "code",
   "execution_count": 5,
   "metadata": {},
   "outputs": [],
   "source": [
    "n_neurons = 5\n",
    "n_inputs = 3   # dimension of input\n",
    "n_steps = 2    # number of time steps\n",
    "\n",
    "reset_graph()\n",
    "\n",
    "X=tf.placeholder(tf.float32,[None,n_steps,n_inputs])\n",
    "seq_len=tf.placeholder(tf.int32,[None])\n",
    "\n",
    "basic_cell=tf.contrib.rnn.BasicRNNCell(num_units=n_neurons)\n",
    "outputs,states = tf.nn.dynamic_rnn(basic_cell, X, dtype=tf.float32, sequence_length=seq_len)\n",
    "\n",
    "init=tf.global_variables_initializer()"
   ]
  },
  {
   "cell_type": "code",
   "execution_count": 6,
   "metadata": {},
   "outputs": [],
   "source": [
    "init = tf.global_variables_initializer()"
   ]
  },
  {
   "cell_type": "code",
   "execution_count": 9,
   "metadata": {},
   "outputs": [],
   "source": [
    "X_batch = np.array([\n",
    "        [[0, 1, 2], [9, 8, 7]], # instance 1\n",
    "        [[3, 4, 5], [0, 0, 0]], # instance 2\n",
    "        [[6, 7, 8], [6, 5, 4]], # instance 3\n",
    "        [[9, 0, 1], [3, 2, 1]], # instance 4\n",
    "    ])\n",
    "\n",
    "seq_batch=np.array([2,1,2,2])\n",
    "\n",
    "with tf.Session() as sess:\n",
    "    init.run()\n",
    "    outputs_val,states_val = sess.run([outputs,states],feed_dict={X: X_batch,seq_len:seq_batch})"
   ]
  },
  {
   "cell_type": "code",
   "execution_count": 10,
   "metadata": {},
   "outputs": [
    {
     "data": {
      "text/plain": [
       "array([[[-0.10526873, -0.9448716 , -0.29064518, -0.6119286 ,\n",
       "         -0.33075336],\n",
       "        [ 0.53786665, -1.        , -0.91434336, -0.99891925,\n",
       "          0.9999986 ]],\n",
       "\n",
       "       [[ 0.18431151, -0.99999917, -0.83524495, -0.96922135,\n",
       "          0.9463261 ],\n",
       "        [ 0.        ,  0.        ,  0.        ,  0.        ,\n",
       "          0.        ]],\n",
       "\n",
       "       [[ 0.44507715, -1.        , -0.97109705, -0.9979726 ,\n",
       "          0.9992354 ],\n",
       "        [-0.27028528, -1.        , -0.65366703, -0.9936612 ,\n",
       "          0.9998479 ]],\n",
       "\n",
       "       [[ 0.9946581 , -0.9999943 , -0.9191345 , -0.73840314,\n",
       "          0.9998987 ],\n",
       "        [-0.5173563 , -0.9984279 , -0.07008535, -0.7954988 ,\n",
       "          0.9932782 ]]], dtype=float32)"
      ]
     },
     "execution_count": 10,
     "metadata": {},
     "output_type": "execute_result"
    }
   ],
   "source": [
    "outputs_val"
   ]
  },
  {
   "cell_type": "code",
   "execution_count": 12,
   "metadata": {},
   "outputs": [
    {
     "data": {
      "text/plain": [
       "array([[ 0.53786665, -1.        , -0.91434336, -0.99891925,  0.9999986 ],\n",
       "       [ 0.18431151, -0.99999917, -0.83524495, -0.96922135,  0.9463261 ],\n",
       "       [-0.27028528, -1.        , -0.65366703, -0.9936612 ,  0.9998479 ],\n",
       "       [-0.5173563 , -0.9984279 , -0.07008535, -0.7954988 ,  0.9932782 ]],\n",
       "      dtype=float32)"
      ]
     },
     "execution_count": 12,
     "metadata": {},
     "output_type": "execute_result"
    }
   ],
   "source": [
    "states_val"
   ]
  },
  {
   "cell_type": "code",
   "execution_count": 13,
   "metadata": {},
   "outputs": [],
   "source": [
    "X_batch = np.array([\n",
    "        [[0, 1, 2], [9, 8, 7]], # instance 1\n",
    "        [[3, 4, 5], [0, 0, 0]], # instance 2\n",
    "        [[6, 7, 8], [6, 5, 4]], # instance 3\n",
    "        [[9, 0, 1], [3, 2, 1]], # instance 4\n",
    "    ])\n",
    "\n",
    "seq_batch=np.array([2,1,2,1])\n",
    "\n",
    "with tf.Session() as sess:\n",
    "    init.run()\n",
    "    outputs_val,states_val = sess.run([outputs,states],feed_dict={X: X_batch,seq_len:seq_batch})"
   ]
  },
  {
   "cell_type": "code",
   "execution_count": 15,
   "metadata": {},
   "outputs": [
    {
     "data": {
      "text/plain": [
       "array([[[-0.10526873, -0.9448716 , -0.29064518, -0.6119286 ,\n",
       "         -0.33075336],\n",
       "        [ 0.53786665, -1.        , -0.91434336, -0.99891925,\n",
       "          0.9999986 ]],\n",
       "\n",
       "       [[ 0.18431151, -0.99999917, -0.83524495, -0.96922135,\n",
       "          0.9463261 ],\n",
       "        [ 0.        ,  0.        ,  0.        ,  0.        ,\n",
       "          0.        ]],\n",
       "\n",
       "       [[ 0.44507715, -1.        , -0.97109705, -0.9979726 ,\n",
       "          0.9992354 ],\n",
       "        [-0.27028528, -1.        , -0.65366703, -0.9936612 ,\n",
       "          0.9998479 ]],\n",
       "\n",
       "       [[ 0.9946581 , -0.9999943 , -0.9191345 , -0.73840314,\n",
       "          0.9998987 ],\n",
       "        [ 0.        ,  0.        ,  0.        ,  0.        ,\n",
       "          0.        ]]], dtype=float32)"
      ]
     },
     "execution_count": 15,
     "metadata": {},
     "output_type": "execute_result"
    }
   ],
   "source": [
    "outputs_val"
   ]
  },
  {
   "cell_type": "markdown",
   "metadata": {},
   "source": [
    "sequence length is more important than actual sequence. If we use sequnece length less than the actual input, the output is zero. See output above\n"
   ]
  },
  {
   "cell_type": "markdown",
   "metadata": {},
   "source": []
  },
  {
   "cell_type": "markdown",
   "metadata": {},
   "source": [
    "Single layer RNN for MNIST classification"
   ]
  },
  {
   "cell_type": "markdown",
   "metadata": {},
   "source": [
    "Since each image in MNIST is 28x28, we will feed the data in 28 steps, each with size 28"
   ]
  },
  {
   "cell_type": "code",
   "execution_count": 37,
   "metadata": {},
   "outputs": [],
   "source": [
    "reset_graph()\n",
    "\n",
    "n_step = 28\n",
    "n_input = 28\n",
    "n_neurons = 120\n",
    "n_outputs=10\n",
    "\n",
    "lr=0.0001\n",
    "\n",
    "X=tf.placeholder(tf.float32,[None,n_step,n_input])\n",
    "y=tf.placeholder(tf.int32,[None])\n",
    "\n",
    "# rnn_cell=tf.nn.rnn_cell.BasicRNNCell(num_units=n_neurons)\n",
    "\n",
    "rnn_cell=tf.contrib.rnn.BasicRNNCell(num_units=n_neurons)\n",
    "outputs, states = tf.nn.dynamic_rnn(rnn_cell, X, dtype=tf.float32)\n",
    "\n",
    "#states is the output of 28th time step and we are using dense layer above that.\n",
    "#if we require an intermediate output, how can we do that\n",
    "logits = tf.layers.dense(states, n_outputs)\n",
    "xentropy = tf.nn.sparse_softmax_cross_entropy_with_logits(labels=y,\n",
    "                                                          logits=logits)\n",
    "loss = tf.reduce_mean(xentropy)\n",
    "optimizer = tf.train.AdamOptimizer(learning_rate=lr)\n",
    "training_op = optimizer.minimize(loss)\n",
    "correct = tf.nn.in_top_k(logits, y, 1)\n",
    "accuracy = tf.reduce_mean(tf.cast(correct, tf.float32))\n",
    "\n",
    "init = tf.global_variables_initializer()"
   ]
  },
  {
   "cell_type": "code",
   "execution_count": 38,
   "metadata": {},
   "outputs": [
    {
     "name": "stdout",
     "output_type": "stream",
     "text": [
      "Extracting /tmp/data/train-images-idx3-ubyte.gz\n",
      "Extracting /tmp/data/train-labels-idx1-ubyte.gz\n",
      "Extracting /tmp/data/t10k-images-idx3-ubyte.gz\n",
      "Extracting /tmp/data/t10k-labels-idx1-ubyte.gz\n"
     ]
    }
   ],
   "source": [
    "from tensorflow.examples.tutorials.mnist import input_data\n",
    "mnist = input_data.read_data_sets(\"/tmp/data/\")\n",
    "X_test = mnist.test.images.reshape((-1, n_step, n_input))\n",
    "y_test = mnist.test.labels"
   ]
  },
  {
   "cell_type": "code",
   "execution_count": 39,
   "metadata": {},
   "outputs": [
    {
     "name": "stdout",
     "output_type": "stream",
     "text": [
      "0 Train accuracy: 0.81 Test accuracy: 0.8153\n",
      "1 Train accuracy: 0.88 Test accuracy: 0.8729\n",
      "2 Train accuracy: 0.85 Test accuracy: 0.9052\n",
      "3 Train accuracy: 0.92 Test accuracy: 0.9199\n",
      "4 Train accuracy: 0.94 Test accuracy: 0.9277\n",
      "5 Train accuracy: 0.95 Test accuracy: 0.9331\n",
      "6 Train accuracy: 0.9 Test accuracy: 0.94\n",
      "7 Train accuracy: 0.95 Test accuracy: 0.9397\n",
      "8 Train accuracy: 0.95 Test accuracy: 0.9467\n",
      "9 Train accuracy: 0.9 Test accuracy: 0.9476\n",
      "10 Train accuracy: 0.96 Test accuracy: 0.953\n",
      "11 Train accuracy: 0.96 Test accuracy: 0.954\n",
      "12 Train accuracy: 0.98 Test accuracy: 0.9566\n",
      "13 Train accuracy: 0.96 Test accuracy: 0.9549\n",
      "14 Train accuracy: 0.99 Test accuracy: 0.9587\n",
      "15 Train accuracy: 0.95 Test accuracy: 0.9568\n",
      "16 Train accuracy: 0.99 Test accuracy: 0.955\n",
      "17 Train accuracy: 0.97 Test accuracy: 0.9582\n",
      "18 Train accuracy: 0.96 Test accuracy: 0.9624\n",
      "19 Train accuracy: 0.96 Test accuracy: 0.9597\n",
      "20 Train accuracy: 0.97 Test accuracy: 0.9645\n",
      "21 Train accuracy: 0.94 Test accuracy: 0.9602\n",
      "22 Train accuracy: 0.98 Test accuracy: 0.9648\n",
      "23 Train accuracy: 0.99 Test accuracy: 0.9681\n",
      "24 Train accuracy: 0.96 Test accuracy: 0.9653\n",
      "25 Train accuracy: 0.95 Test accuracy: 0.968\n",
      "26 Train accuracy: 0.95 Test accuracy: 0.9654\n",
      "27 Train accuracy: 0.98 Test accuracy: 0.9664\n",
      "28 Train accuracy: 0.95 Test accuracy: 0.9677\n",
      "29 Train accuracy: 0.98 Test accuracy: 0.9678\n",
      "30 Train accuracy: 0.96 Test accuracy: 0.968\n",
      "31 Train accuracy: 1.0 Test accuracy: 0.9651\n",
      "32 Train accuracy: 0.96 Test accuracy: 0.9678\n",
      "33 Train accuracy: 0.98 Test accuracy: 0.9699\n",
      "34 Train accuracy: 0.97 Test accuracy: 0.969\n",
      "35 Train accuracy: 0.96 Test accuracy: 0.9689\n",
      "36 Train accuracy: 0.97 Test accuracy: 0.9706\n",
      "37 Train accuracy: 0.96 Test accuracy: 0.9684\n",
      "38 Train accuracy: 0.99 Test accuracy: 0.9677\n",
      "39 Train accuracy: 0.97 Test accuracy: 0.9705\n",
      "40 Train accuracy: 0.99 Test accuracy: 0.9705\n",
      "41 Train accuracy: 0.95 Test accuracy: 0.9679\n",
      "42 Train accuracy: 0.99 Test accuracy: 0.9708\n",
      "43 Train accuracy: 0.98 Test accuracy: 0.9698\n",
      "44 Train accuracy: 0.97 Test accuracy: 0.9706\n",
      "45 Train accuracy: 1.0 Test accuracy: 0.9696\n",
      "46 Train accuracy: 1.0 Test accuracy: 0.9708\n",
      "47 Train accuracy: 0.98 Test accuracy: 0.9706\n",
      "48 Train accuracy: 0.97 Test accuracy: 0.9733\n",
      "49 Train accuracy: 0.99 Test accuracy: 0.9697\n"
     ]
    }
   ],
   "source": [
    "n_epochs = 50\n",
    "batch_size = 100\n",
    "\n",
    "train_acc=[]\n",
    "test_acc=[]\n",
    "with tf.Session() as sess:\n",
    "    init.run()\n",
    "    for epoch in range(n_epochs):\n",
    "        for batch in range(len(mnist.train.images)//batch_size):\n",
    "            X_batch, y_batch = mnist.train.next_batch(batch_size)\n",
    "            X_batch = X_batch.reshape((-1, n_step, n_input))\n",
    "            sess.run(training_op, feed_dict={X: X_batch, y: y_batch})\n",
    "        #train and test accuracy for every epoch\n",
    "        acc_train = accuracy.eval(feed_dict={X: X_batch, y: y_batch})\n",
    "        acc_test = accuracy.eval(feed_dict={X: X_test, y: y_test})\n",
    "        train_acc.append(acc_train)\n",
    "        test_acc.append(acc_test)\n",
    "        print(epoch, \"Train accuracy:\", acc_train, \"Test accuracy:\", acc_test)"
   ]
  },
  {
   "cell_type": "markdown",
   "metadata": {},
   "source": [
    "tf.nn.rnn_cell.BasicRNNCell was giving fluctuating accuracies(tried 3 times); tf.contrib.rnn.BasicRNNCell seem to work better for this case"
   ]
  },
  {
   "cell_type": "code",
   "execution_count": 63,
   "metadata": {},
   "outputs": [
    {
     "data": {
      "text/plain": [
       "Text(0,0.5,'accuracy')"
      ]
     },
     "execution_count": 63,
     "metadata": {},
     "output_type": "execute_result"
    },
    {
     "data": {
      "image/png": "[encoded data removed]",
      "text/plain": [
       "<matplotlib.figure.Figure at 0x119e3c5c0>"
      ]
     },
     "metadata": {},
     "output_type": "display_data"
    }
   ],
   "source": [
    "plt.plot(train_acc,color='r',label='train_accuracy',alpha=0.5)\n",
    "plt.plot(test_acc,color='b',label='test_accuracy',alpha=0.8)\n",
    "plt.ylim(0.8,1)\n",
    "plt.legend(loc='lower right')\n",
    "plt.xlabel('epochs')\n",
    "plt.ylabel('accuracy')"
   ]
  },
  {
   "cell_type": "markdown",
   "metadata": {},
   "source": [
    "# Multilayer RNNs"
   ]
  },
  {
   "cell_type": "code",
   "execution_count": null,
   "metadata": {},
   "outputs": [],
   "source": []
  }
 ],
 "metadata": {
  "kernelspec": {
   "display_name": "Python 3",
   "language": "python",
   "name": "python3"
  },
  "language_info": {
   "codemirror_mode": {
    "name": "ipython",
    "version": 3
   },
   "file_extension": ".py",
   "mimetype": "text/x-python",
   "name": "python",
   "nbconvert_exporter": "python",
   "pygments_lexer": "ipython3",
   "version": "3.6.4"
  }
 },
 "nbformat": 4,
 "nbformat_minor": 2
}
