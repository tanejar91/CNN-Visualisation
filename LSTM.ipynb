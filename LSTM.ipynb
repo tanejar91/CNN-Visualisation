{
 "cells": [
  {
   "cell_type": "code",
   "execution_count": 53,
   "metadata": {},
   "outputs": [],
   "source": [
    "import numpy as np\n",
    "import tensorflow as tf\n",
    "from tensorflow.nn import rnn_cell,dynamic_rnn\n",
    "import matplotlib.pyplot as plt"
   ]
  },
  {
   "cell_type": "code",
   "execution_count": 54,
   "metadata": {},
   "outputs": [],
   "source": [
    "def reset_graph(seed=92):\n",
    "    tf.reset_default_graph()\n",
    "    tf.set_random_seed(seed)\n",
    "    np.random.seed(seed)"
   ]
  },
  {
   "cell_type": "code",
   "execution_count": 55,
   "metadata": {},
   "outputs": [],
   "source": [
    "reset_graph()\n",
    "\n",
    "n_step = 28\n",
    "n_input = 28\n",
    "n_neurons = 120\n",
    "n_outputs=10\n",
    "\n",
    "lr=0.0001\n",
    "\n",
    "X=tf.placeholder(tf.float32,[None,n_step,n_input])\n",
    "y=tf.placeholder(tf.int32,[None])\n",
    "\n",
    "# rnn_cell=tf.nn.rnn_cell.BasicRNNCell(num_units=n_neurons)\n",
    "\n",
    "lstm_cell=rnn_cell.LSTMCell(num_units=n_neurons)\n",
    "# lstm_cell=tf.contrib.rnn.BasicRNNCell(num_units=n_neurons)\n",
    "outputs, states = tf.nn.dynamic_rnn(lstm_cell, X, dtype=tf.float32)\n",
    "logits = tf.layers.dense(states[1], n_outputs)\n",
    "xentropy = tf.nn.sparse_softmax_cross_entropy_with_logits(labels=y,logits=logits)\n",
    "loss = tf.reduce_mean(xentropy)\n",
    "optimizer = tf.train.AdamOptimizer(learning_rate=lr)\n",
    "training_op = optimizer.minimize(loss)\n",
    "correct = tf.nn.in_top_k(logits, y, 1)\n",
    "accuracy = tf.reduce_mean(tf.cast(correct, tf.float32))\n",
    "\n",
    "init = tf.global_variables_initializer()"
   ]
  },
  {
   "cell_type": "code",
   "execution_count": 56,
   "metadata": {},
   "outputs": [],
   "source": [
    "mnist = tf.keras.datasets.mnist\n",
    "\n",
    "(x_train, y_train),(x_test, y_test) = mnist.load_data()"
   ]
  },
  {
   "cell_type": "code",
   "execution_count": 57,
   "metadata": {},
   "outputs": [
    {
     "name": "stdout",
     "output_type": "stream",
     "text": [
      "Extracting /tmp/data/train-images-idx3-ubyte.gz\n",
      "Extracting /tmp/data/train-labels-idx1-ubyte.gz\n",
      "Extracting /tmp/data/t10k-images-idx3-ubyte.gz\n",
      "Extracting /tmp/data/t10k-labels-idx1-ubyte.gz\n"
     ]
    }
   ],
   "source": [
    "mnist = input_data.read_data_sets(\"/tmp/data/\")\n",
    "X_test = mnist.test.images.reshape((-1, n_step, n_input))\n",
    "y_test = mnist.test.labels"
   ]
  },
  {
   "cell_type": "code",
   "execution_count": 59,
   "metadata": {},
   "outputs": [
    {
     "name": "stdout",
     "output_type": "stream",
     "text": [
      "0 Train accuracy: 0.72 Test accuracy: 0.8027\n",
      "1 Train accuracy: 0.88 Test accuracy: 0.8918\n",
      "2 Train accuracy: 0.92 Test accuracy: 0.9197\n",
      "3 Train accuracy: 0.93 Test accuracy: 0.9337\n",
      "4 Train accuracy: 0.95 Test accuracy: 0.9425\n",
      "5 Train accuracy: 0.96 Test accuracy: 0.9483\n",
      "6 Train accuracy: 0.93 Test accuracy: 0.953\n",
      "7 Train accuracy: 0.97 Test accuracy: 0.9528\n",
      "8 Train accuracy: 0.96 Test accuracy: 0.9599\n",
      "9 Train accuracy: 0.97 Test accuracy: 0.9616\n",
      "10 Train accuracy: 0.96 Test accuracy: 0.9614\n",
      "11 Train accuracy: 1.0 Test accuracy: 0.9622\n",
      "12 Train accuracy: 0.98 Test accuracy: 0.9647\n",
      "13 Train accuracy: 0.94 Test accuracy: 0.9658\n",
      "14 Train accuracy: 0.99 Test accuracy: 0.9682\n",
      "15 Train accuracy: 0.99 Test accuracy: 0.9665\n",
      "16 Train accuracy: 0.99 Test accuracy: 0.9685\n",
      "17 Train accuracy: 1.0 Test accuracy: 0.9693\n",
      "18 Train accuracy: 1.0 Test accuracy: 0.9665\n",
      "19 Train accuracy: 1.0 Test accuracy: 0.9725\n"
     ]
    }
   ],
   "source": [
    "n_epochs = 20\n",
    "batch_size = 100\n",
    "\n",
    "train_acc=[]\n",
    "test_acc=[]\n",
    "with tf.Session() as sess:\n",
    "    init.run()\n",
    "    for epoch in range(n_epochs):\n",
    "        for batch in range(len(mnist.train.images)//batch_size):\n",
    "            X_batch, y_batch = mnist.train.next_batch(batch_size)\n",
    "            X_batch = X_batch.reshape((-1, n_step, n_input))\n",
    "            sess.run(training_op, feed_dict={X: X_batch, y: y_batch})\n",
    "        #train and test accuracy for every epoch\n",
    "        acc_train = accuracy.eval(feed_dict={X: X_batch, y: y_batch})\n",
    "        acc_test = accuracy.eval(feed_dict={X: X_test, y: y_test})\n",
    "        train_acc.append(acc_train)\n",
    "        test_acc.append(acc_test)\n",
    "        print(epoch, \"Train accuracy:\", acc_train, \"Test accuracy:\", acc_test)"
   ]
  },
  {
   "cell_type": "code",
   "execution_count": 60,
   "metadata": {},
   "outputs": [
    {
     "data": {
      "text/plain": [
       "Text(0,0.5,'accuracy')"
      ]
     },
     "execution_count": 60,
     "metadata": {},
     "output_type": "execute_result"
    },
    {
     "data": {
      "image/png": "[encoded data removed]",
      "text/plain": [
       "<Figure size 432x288 with 1 Axes>"
      ]
     },
     "metadata": {
      "needs_background": "light"
     },
     "output_type": "display_data"
    }
   ],
   "source": [
    "plt.plot(train_acc,color='r',label='train_accuracy',alpha=0.5)\n",
    "plt.plot(test_acc,color='b',label='test_accuracy',alpha=0.8)\n",
    "plt.ylim(0.8,1)\n",
    "plt.legend(loc='lower right')\n",
    "plt.xlabel('epochs')\n",
    "plt.ylabel('accuracy')"
   ]
  },
  {
   "cell_type": "code",
   "execution_count": null,
   "metadata": {},
   "outputs": [],
   "source": []
  }
 ],
 "metadata": {
  "kernelspec": {
   "display_name": "Python 3",
   "language": "python",
   "name": "python3"
  },
  "language_info": {
   "codemirror_mode": {
    "name": "ipython",
    "version": 3
   },
   "file_extension": ".py",
   "mimetype": "text/x-python",
   "name": "python",
   "nbconvert_exporter": "python",
   "pygments_lexer": "ipython3",
   "version": "3.6.6"
  }
 },
 "nbformat": 4,
 "nbformat_minor": 2
}
